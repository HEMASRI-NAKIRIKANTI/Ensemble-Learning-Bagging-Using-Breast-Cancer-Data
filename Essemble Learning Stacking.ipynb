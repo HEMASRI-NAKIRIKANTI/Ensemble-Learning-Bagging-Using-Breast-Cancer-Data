{
 "cells": [
  {
   "cell_type": "code",
   "execution_count": null,
   "id": "b177203e",
   "metadata": {},
   "outputs": [],
   "source": [
    "from sklearn.ensemble import BaggingClassifier\n",
    "from sklearn.ensemble import RandomForestClassifier\n",
    "from sklearn.linear_model import LogisticRegression\n",
    "from sklearn.naive_bayes import GaussianNB\n",
    "from sklearn.ensemble import StackingClassifier\n",
    "from sklearn.neighbors import KNeighborsClassifier\n",
    "from sklearn import model_selection\n",
    "#from mlxtend.classifier import StackingClassifier\n",
    "import warnings\n",
    "warnings.simplefilter('ignore')"
   ]
  },
  {
   "cell_type": "code",
   "execution_count": null,
   "id": "69941dba",
   "metadata": {},
   "outputs": [],
   "source": [
    "from sklearn.datasets import load_iris\n",
    "dataset = load_iris()\n",
    "X = dataset.data[:,1:3]\n",
    "Y = dataset.target\n",
    "Y"
   ]
  },
  {
   "attachments": {},
   "cell_type": "markdown",
   "id": "31e32dce",
   "metadata": {},
   "source": [
    "from sklearn.model_selection import train_test_split\n",
    "X_train, X_test,Y_train,Y_test = train_test_split(X,Y,test_size=0.3,random_state=33)\n",
    "Y_test\n"
   ]
  },
  {
   "cell_type": "code",
   "execution_count": null,
   "id": "e6e9f183",
   "metadata": {},
   "outputs": [],
   "source": [
    "from sklearn.metrics import accuracy_score\n",
    "# Defining base learners\n",
    "knn = KNeighborsClassifier(n_neighbors=1)\n",
    "rfc = RandomForestClassifier(random_state=1)\n",
    "gnb = GaussianNB()\n",
    "# Defining meta model\n",
    "lr =  LogisticRegression()\n",
    "#knn.fit(X_train, Y_train)\n",
    "#y_pred = knn.predict(X_test)\n",
    "#y_pred\n",
    "#accuracy = accuracy_score(y_test, y_pred)\n",
    "#print(\"Accuracy:\", accuracy) "
   ]
  },
  {
   "cell_type": "code",
   "execution_count": null,
   "id": "795e2a79",
   "metadata": {
    "scrolled": false
   },
   "outputs": [],
   "source": [
    "stackingclf = StackingClassifier(estimators =[knn,rfc,gnb],final_estimator =lr) \n",
    "#bag_knn.fit(X_train, Y_train)\n",
    "#bag_knn.score(X_test, Y_test)"
   ]
  },
  {
   "attachments": {},
   "cell_type": "markdown",
   "id": "2e39410d",
   "metadata": {},
   "source": [
    "for iterclf, iterlabel in zip([knn,rfc,gnb,stackingclf],['K-Nearest Neighbours Model','Random Forest Model','Naive Bayes Model','StackingClassifier Model']):\n",
    "         scores = model_selection.cross_val_score(iterclf,X,Y,cv=3,scoring='accuracy')\n",
    "         print(\"Accuracy: %0.3f %0.3f %s \",scores.mean(),scores.std(),iterlabel)"
   ]
  },
  {
   "cell_type": "code",
   "execution_count": null,
   "id": "38bc501b",
   "metadata": {},
   "outputs": [],
   "source": [
    "for iterclf, iterlabel in zip([knn, rfc, gnb, stackingclf], ['K-Nearest Neighbours Model', 'Random Forest Model', 'Naive Bayes Model', 'StackingClassifier Model']):\n",
    "    scores = model_selection.cross_val_score(iterclf, X, Y, cv=3, scoring='accuracy')\n",
    "    print(\"Accuracy: %0.3f %0.3f %s\" % (scores.mean(), scores.std(), iterlabel))\n"
   ]
  }
 ],
 "metadata": {
  "kernelspec": {
   "display_name": "Python 3 (ipykernel)",
   "language": "python",
   "name": "python3"
  },
  "language_info": {
   "codemirror_mode": {
    "name": "ipython",
    "version": 3
   },
   "file_extension": ".py",
   "mimetype": "text/x-python",
   "name": "python",
   "nbconvert_exporter": "python",
   "pygments_lexer": "ipython3",
   "version": "3.8.0"
  }
 },
 "nbformat": 4,
 "nbformat_minor": 5
}
